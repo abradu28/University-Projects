{
 "cells": [
  {
   "cell_type": "code",
   "execution_count": 23,
   "metadata": {
    "collapsed": true
   },
   "outputs": [],
   "source": [
    "import numpy as np\n",
    "import matplotlib.pyplot as plt\n",
    "from scipy.linalg import lstsq"
   ]
  },
  {
   "cell_type": "markdown",
   "source": [
    "Exercitiul 1.a)\n",
    "\n",
    "\n",
    "Se observa ca sirul este periodic de perioada 4, acesta putand fi dat de formula $f(x_k) = \\[\n",
    "    \\begin{cases}\n",
    "        0.1 &, k = 0 \\\\\n",
    "        0.2 &, k \\% 4 = 1 \\\\\n",
    "        0.4 &, k \\% 4 = 2 \\\\\n",
    "        0.8 &, k \\% 4 = 3 \\\\\n",
    "        0.6 &, k \\% 4 = 0 \\\\\n",
    "    \\end{cases}\n",
    "\\]$\n",
    "\n",
    " Cum 60 este divizibil cu 4, inseamna ca $x_{60}=0.6$"
   ],
   "metadata": {
    "collapsed": false
   }
  },
  {
   "cell_type": "code",
   "execution_count": 24,
   "outputs": [
    {
     "name": "stdout",
     "output_type": "stream",
     "text": [
      "1.0\n"
     ]
    }
   ],
   "source": [
    "# 1.b)\n",
    "\n",
    "def f(x, k):\n",
    "    while k > 0:\n",
    "        if x > 0.5:\n",
    "            x = 2*x - 1\n",
    "        else:\n",
    "            x = 2*x\n",
    "        k -= 1\n",
    "\n",
    "    return x\n",
    "\n",
    "print(f(0.1, 61))\n"
   ],
   "metadata": {
    "collapsed": false
   }
  },
  {
   "cell_type": "markdown",
   "source": [
    "Rezultatele difera, facand cele $60$ de iteratii s-a obtinut valoarea $1$, insa dupa formula era $0.6$."
   ],
   "metadata": {
    "collapsed": false
   }
  },
  {
   "cell_type": "code",
   "execution_count": 25,
   "outputs": [
    {
     "name": "stdout",
     "output_type": "stream",
     "text": [
      "Valoarea de pe pozitia 0 este: 0.1000\n",
      "Valoarea de pe pozitia 1 este: 0.2000\n",
      "Valoarea de pe pozitia 2 este: 0.4000\n",
      "Valoarea de pe pozitia 3 este: 0.8000\n",
      "Valoarea de pe pozitia 4 este: 0.6000\n",
      "Valoarea de pe pozitia 5 este: 0.2000\n",
      "Valoarea de pe pozitia 6 este: 0.4000\n",
      "Valoarea de pe pozitia 7 este: 0.8000\n",
      "Valoarea de pe pozitia 8 este: 0.6000\n",
      "Valoarea de pe pozitia 9 este: 0.2000\n",
      "Valoarea de pe pozitia 10 este: 0.4000\n",
      "Valoarea de pe pozitia 11 este: 0.8000\n",
      "Valoarea de pe pozitia 12 este: 0.6000\n",
      "Valoarea de pe pozitia 13 este: 0.2000\n",
      "Valoarea de pe pozitia 14 este: 0.4000\n",
      "Valoarea de pe pozitia 15 este: 0.8000\n",
      "Valoarea de pe pozitia 16 este: 0.6000\n",
      "Valoarea de pe pozitia 17 este: 0.2000\n",
      "Valoarea de pe pozitia 18 este: 0.4000\n",
      "Valoarea de pe pozitia 19 este: 0.8000\n",
      "Valoarea de pe pozitia 20 este: 0.6000\n",
      "Valoarea de pe pozitia 21 este: 0.2000\n",
      "Valoarea de pe pozitia 22 este: 0.4000\n",
      "Valoarea de pe pozitia 23 este: 0.8000\n",
      "Valoarea de pe pozitia 24 este: 0.6000\n",
      "Valoarea de pe pozitia 25 este: 0.2000\n",
      "Valoarea de pe pozitia 26 este: 0.4000\n",
      "Valoarea de pe pozitia 27 este: 0.8000\n",
      "Valoarea de pe pozitia 28 este: 0.6000\n",
      "Valoarea de pe pozitia 29 este: 0.2000\n",
      "Valoarea de pe pozitia 30 este: 0.4000\n",
      "Valoarea de pe pozitia 31 este: 0.8000\n",
      "Valoarea de pe pozitia 32 este: 0.6000\n",
      "Valoarea de pe pozitia 33 este: 0.2000\n",
      "Valoarea de pe pozitia 34 este: 0.4000\n",
      "Valoarea de pe pozitia 35 este: 0.8000\n",
      "Valoarea de pe pozitia 36 este: 0.6000\n",
      "Valoarea de pe pozitia 37 este: 0.2000\n",
      "Valoarea de pe pozitia 38 este: 0.4000\n",
      "Valoarea de pe pozitia 39 este: 0.8000\n",
      "Valoarea de pe pozitia 40 este: 0.6000\n",
      "Valoarea de pe pozitia 41 este: 0.2000\n",
      "Valoarea de pe pozitia 42 este: 0.4000\n",
      "Valoarea de pe pozitia 43 este: 0.8000\n",
      "Valoarea de pe pozitia 44 este: 0.6001\n",
      "Valoarea de pe pozitia 45 este: 0.2002\n",
      "Valoarea de pe pozitia 46 este: 0.4004\n",
      "Valoarea de pe pozitia 47 este: 0.8008\n",
      "Valoarea de pe pozitia 48 este: 0.6016\n",
      "Valoarea de pe pozitia 49 este: 0.2031\n",
      "Valoarea de pe pozitia 50 este: 0.4062\n",
      "Valoarea de pe pozitia 51 este: 0.8125\n",
      "Valoarea de pe pozitia 52 este: 0.6250\n",
      "Valoarea de pe pozitia 53 este: 0.2500\n",
      "Valoarea de pe pozitia 54 este: 0.5000\n",
      "Valoarea de pe pozitia 55 este: 1.0000\n",
      "Valoarea de pe pozitia 56 este: 1.0000\n",
      "Valoarea de pe pozitia 57 este: 1.0000\n",
      "Valoarea de pe pozitia 58 este: 1.0000\n",
      "Valoarea de pe pozitia 59 este: 1.0000\n",
      "Valoarea de pe pozitia 60 este: 1.0000\n"
     ]
    }
   ],
   "source": [
    "# 1.c)\n",
    "# Afis,at,i  valorile  luixla  fiecare  iterat,ie  cu  o  precizie  de  4  zecimales,i  comentat,i  rezultatele.   De  unde  apar  diferent,ele  fat, ̆a  de  valorilecalculate pe hˆartie?\n",
    "\n",
    "for i in range(61):\n",
    "    print(f'Valoarea de pe pozitia {i} este: {f(0.1, i):.4f}')\n",
    "\n",
    "\n"
   ],
   "metadata": {
    "collapsed": false
   }
  },
  {
   "cell_type": "markdown",
   "source": [
    "Valorile sunt diferita din cauza notiunii de epsilon-masina $(\\epsilon)$, ce masoara distanta dintre reprezentarea numarului 1 si cea a numarului imediat urmator."
   ],
   "metadata": {
    "collapsed": false
   }
  },
  {
   "cell_type": "code",
   "execution_count": 26,
   "outputs": [],
   "source": [
    "#2.a)\n",
    "\n",
    "def MEG(A, b):\n",
    "    n = np.shape(A)[0] # dimensiunea matricii A\n",
    "    U = np.copy(A)\n",
    "    for i in range(n):\n",
    "        for j in range(i + 1, n):\n",
    "            m = -U[j, i] / U[i, i]\n",
    "            U[j, i:] = U[j, i:] + m * U[i, i:]\n",
    "            b[j] = b[j] + m * b[i]\n",
    "    return U, b\n",
    "\n"
   ],
   "metadata": {
    "collapsed": false
   }
  },
  {
   "cell_type": "code",
   "execution_count": 27,
   "outputs": [],
   "source": [
    "#2.b)\n",
    "\n",
    "\n",
    "def UTRIS(U, b):\n",
    "    # Vrem sa aflam x ai Ux = b\n",
    "    n = np.shape(U)[0] # dimensiunea matricii U\n",
    "    x = np.zeros((n, 1)) # solutie ecuatiei\n",
    "\n",
    "    for i in range(n - 1, -1, -1):\n",
    "        sum = 0\n",
    "        for j in range(i + 1, n):\n",
    "            sum += U[i, j] * x[j]\n",
    "        x[i] = (b[i] - sum) / U[i, i]\n",
    "\n",
    "    return x\n",
    "\n"
   ],
   "metadata": {
    "collapsed": false
   }
  },
  {
   "cell_type": "markdown",
   "source": [],
   "metadata": {
    "collapsed": false
   }
  },
  {
   "cell_type": "code",
   "execution_count": 28,
   "outputs": [
    {
     "name": "stdout",
     "output_type": "stream",
     "text": [
      "[[-4.99600361e-16]\n",
      " [-3.33066907e-16]\n",
      " [ 8.88178420e-16]\n",
      " [ 0.00000000e+00]\n",
      " [ 0.00000000e+00]\n",
      " [ 0.00000000e+00]]\n"
     ]
    }
   ],
   "source": [
    "#2.c)\n",
    "\n",
    "\n",
    "A = np.random.randn(6, 6)\n",
    "\n",
    "b = np.random.randn(6, 1)\n",
    "\n",
    "U, b = MEG(A, b)\n",
    "\n",
    "\n",
    "x = UTRIS(U, b)\n",
    "\n",
    "print(U @ x - b)\n",
    "\n",
    "#diferenta este foarte mica\n"
   ],
   "metadata": {
    "collapsed": false
   }
  },
  {
   "cell_type": "code",
   "execution_count": 29,
   "outputs": [
    {
     "name": "stdout",
     "output_type": "stream",
     "text": [
      "[-1.86903812 -1.13177555]\n"
     ]
    }
   ],
   "source": [
    "from scipy import linalg\n",
    "\n",
    "#3. a)\n",
    "res = np.genfromtxt('regresie.csv', delimiter=\",\")\n",
    "A = np.array(res).astype(float)\n",
    "U = np.copy(A)\n",
    "\n",
    "#cmmp\n",
    "U[:, 1] = np.ones(U[:, 1].shape)\n",
    "b = A[:, 1]\n",
    "\n",
    "#coeficientii ecuatiei dreptei\n",
    "x, _, _, _ = linalg.lstsq(U, b)\n",
    "\n",
    "print(x)"
   ],
   "metadata": {
    "collapsed": false
   }
  },
  {
   "cell_type": "code",
   "execution_count": 30,
   "outputs": [
    {
     "name": "stdout",
     "output_type": "stream",
     "text": [
      "[-1.86903812 -1.13177555]\n"
     ]
    },
    {
     "data": {
      "text/plain": "[<matplotlib.lines.Line2D at 0x1e43747f2b0>]"
     },
     "execution_count": 30,
     "metadata": {},
     "output_type": "execute_result"
    },
    {
     "data": {
      "text/plain": "<Figure size 432x288 with 1 Axes>",
      "image/png": "[encoded data removed]"
     },
     "metadata": {
      "needs_background": "light"
     },
     "output_type": "display_data"
    }
   ],
   "source": [
    "#creare grafic\n",
    "\n",
    "print(x)\n",
    "\n",
    "for i in range(np.shape(A)[0]):\n",
    "    plt.plot(A[i, 0], A[i, 1], marker=\"x\", markersize=8, markerfacecolor=\"green\")\n",
    "\n",
    "\n",
    "plt.plot(A[:, 0], x[0] * A[:, 0] + x[1])\n"
   ],
   "metadata": {
    "collapsed": false
   }
  },
  {
   "cell_type": "code",
   "execution_count": 30,
   "outputs": [],
   "source": [],
   "metadata": {
    "collapsed": false
   }
  }
 ],
 "metadata": {
  "kernelspec": {
   "display_name": "Python 3",
   "language": "python",
   "name": "python3"
  },
  "language_info": {
   "codemirror_mode": {
    "name": "ipython",
    "version": 2
   },
   "file_extension": ".py",
   "mimetype": "text/x-python",
   "name": "python",
   "nbconvert_exporter": "python",
   "pygments_lexer": "ipython2",
   "version": "2.7.6"
  }
 },
 "nbformat": 4,
 "nbformat_minor": 0
}

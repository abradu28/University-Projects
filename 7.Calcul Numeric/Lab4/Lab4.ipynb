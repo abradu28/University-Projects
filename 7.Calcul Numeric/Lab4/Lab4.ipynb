{
 "cells": [
  {
   "cell_type": "code",
   "execution_count": 1122,
   "metadata": {
    "collapsed": true
   },
   "outputs": [],
   "source": [
    "import numpy as np\n",
    "import pandas as pd\n",
    "from sklearn import svm\n",
    "from sklearn.metrics import confusion_matrix"
   ]
  },
  {
   "cell_type": "code",
   "execution_count": 1123,
   "outputs": [],
   "source": [
    "#1)\n",
    "\n",
    "#a)\n",
    "data = pd.read_csv(r'C:\\Users\\Radu\\Desktop\\facultate\\Anul3\\Calcul Numeric\\Lab4\\iris.data')\n",
    "data = np.array(data)\n",
    "\n",
    "#shuffle pe data ca sa fie in mod aleator\n",
    "np.random.shuffle(data)\n",
    "\n",
    "#set de antrenament cu 100 de semnale\n",
    "train = data[:100, :]\n",
    "test = data[100:, :]\n",
    "\n",
    "#set de test cu 50 de semnale\n",
    "train_features = train[:, 0:4]\n",
    "train_labels = train[:, 4]\n",
    "\n",
    "test_features = test[:, 0:4]\n",
    "test_labels = test[:, 4]\n"
   ],
   "metadata": {
    "collapsed": false
   }
  },
  {
   "cell_type": "code",
   "execution_count": 1124,
   "outputs": [
    {
     "data": {
      "text/plain": "SVC(kernel='linear')"
     },
     "execution_count": 1124,
     "metadata": {},
     "output_type": "execute_result"
    }
   ],
   "source": [
    "#b) antrenarea algoritmului\n",
    "\n",
    "clf = svm.SVC(kernel='linear')\n",
    "clf.fit(train_features, train_labels)\n",
    "\n",
    "\n"
   ],
   "metadata": {
    "collapsed": false
   }
  },
  {
   "cell_type": "code",
   "execution_count": 1125,
   "outputs": [
    {
     "name": "stdout",
     "output_type": "stream",
     "text": [
      "96.0% rezultate corecte \n",
      "[[12  0  0]\n",
      " [ 0 17  2]\n",
      " [ 0  0 18]]\n"
     ]
    }
   ],
   "source": [
    "#c) testarea algoritmului pe setul test, eroare de clasificare si matricea de confuzie\n",
    "nr = 0\n",
    "predictii = clf.predict(test_features)\n",
    "for i in range(0, test_labels.shape[0]):\n",
    "    if(test_labels[i] != predictii[i]):\n",
    "        nr += 1\n",
    "# print(test_labels[:10])\n",
    "nr_rezultate_corecte = 50 - nr\n",
    "print(f'{(nr_rezultate_corecte / 50) * 100}% rezultate corecte ')\n",
    "\n",
    "\n",
    "\n",
    "#matricea de confuzie\n",
    "\n",
    "print(confusion_matrix(test_labels, predictii))"
   ],
   "metadata": {
    "collapsed": false
   }
  },
  {
   "cell_type": "markdown",
   "source": [],
   "metadata": {
    "collapsed": false
   }
  },
  {
   "cell_type": "code",
   "execution_count": 1126,
   "outputs": [
    {
     "name": "stdout",
     "output_type": "stream",
     "text": [
      "94.0% rezultate corecte \n",
      "[[12  0  0]\n",
      " [ 0 18  1]\n",
      " [ 0  2 16]]\n"
     ]
    }
   ],
   "source": [
    "#d) aceeasi chestie doar ca utilizand kernel de tip RBF\n",
    "nr = 0\n",
    "clf_rbf = svm.SVC(kernel='rbf')\n",
    "clf_rbf.fit(train_features, train_labels)\n",
    "predictii = clf_rbf.predict(test_features)\n",
    "for i in range(0, test_labels.shape[0]):\n",
    "    if(test_labels[i] != predictii[i]):\n",
    "        nr += 1\n",
    "nr_rezultate_corecte = 50 - nr\n",
    "print(f'{(nr_rezultate_corecte / 50) * 100}% rezultate corecte ')\n",
    "\n",
    "print(confusion_matrix(test_labels, predictii))"
   ],
   "metadata": {
    "collapsed": false
   }
  },
  {
   "cell_type": "code",
   "execution_count": 1126,
   "outputs": [],
   "source": [],
   "metadata": {
    "collapsed": false
   }
  }
 ],
 "metadata": {
  "kernelspec": {
   "display_name": "Python 3",
   "language": "python",
   "name": "python3"
  },
  "language_info": {
   "codemirror_mode": {
    "name": "ipython",
    "version": 2
   },
   "file_extension": ".py",
   "mimetype": "text/x-python",
   "name": "python",
   "nbconvert_exporter": "python",
   "pygments_lexer": "ipython2",
   "version": "2.7.6"
  }
 },
 "nbformat": 4,
 "nbformat_minor": 0
}
